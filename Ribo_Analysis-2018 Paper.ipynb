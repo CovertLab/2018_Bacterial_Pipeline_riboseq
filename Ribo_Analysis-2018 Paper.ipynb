{
 "cells": [
  {
   "cell_type": "markdown",
   "metadata": {},
   "source": [
    "# Density analysis script\n",
    "\n",
    "This notebook will use density files made from the FASTQ processing script and analyze features relevant to translation. This can also be applied to RNA-seq to investigate RNA coverage over the CDS:\n",
    "\n",
    "   - \n",
    "\n",
    "   - Average gene plot condenses ribosome footprints aligned to the start and stop codons of every gene. \n",
    "       - Initiation and termination \n",
    "       - periodicity\n",
    "       - occupancy on CDS and UTR\n",
    "   - Frame analysis condenses reads into the three reading frames, informing on the occupancy at each frame. ribosome footprints should show strong 3nt periodicity. \n",
    "       - Frame analyzed using all density sizes, size separated densities, or gene separated \n",
    "   - Assymetry analysis informs on the degree of dropoff/runoff in the data. \n",
    "   - Pause score analysis provides relative occupancy information on different codons/amino acids. "
   ]
  },
  {
   "cell_type": "markdown",
   "metadata": {},
   "source": [
    "# General Settings:\n",
    "\n",
    "Directory Data:"
   ]
  },
  {
   "cell_type": "code",
   "execution_count": null,
   "metadata": {
    "collapsed": false
   },
   "outputs": [],
   "source": [
    "%load_ext autoreload\n",
    "%autoreload 2\n",
    "\n",
    "import pandas as pd\n",
    "import numpy as np\n",
    "from datetime import datetime\n",
    "\n",
    "\n",
    "import ribo_util\n",
    "import ribo_main\n",
    "import ribo_analysis\n",
    "import ribo_plot\n",
    "\n",
    "\n",
    "organism = 'Coli'      #Coli, Subtilis, Tuberculosis, Salmonella etc...\n",
    "\n",
    "inputs = {}\n",
    "inputs['files'] = []\n",
    "inputs['multiprocess'] = 'yes'\n",
    "inputs['threads']      = 8   # CPU information for multithreading applications\n",
    "inputs['cores']        = 4\n",
    "\n",
    "path_pc     = '/Volumes/HDD/Ribo_seq/'\n",
    "inpath      = path_pc + 'libraries/'\n",
    "path_script = '/Users/fuad/Dropbox/'\n",
    "\n",
    "paths_in = {}\n",
    "paths_in['path_gff_dict'] = path_pc + 'annotations/'+organism+'/'+organism+'_dict'   #will be made from GFF\n",
    "\n",
    "paths_out = {}\n",
    "paths_out['path_density']      = inpath  + 'density/density/'\n",
    "paths_out['path_log']          = inpath  + 'density/logs/'\n",
    "paths_out['path_analysis_log'] = inpath  + 'analysis/logs/'\n",
    "paths_out['path_analysis']     = inpath  + 'analysis/individual/'\n",
    "paths_out['path_figures']      = inpath  + 'figures/'\n",
    "\n",
    "'''can place files in .csv with header == Library, or input file names into list  '''\n",
    "all_files  = []\n",
    "file_csv   = path_pc  + 'Methods_paper/all_libraries.csv' #path_pc  + 'Methods_paper/all_libraries.csv'\n",
    "library_id = pd.read_csv(file_csv)\n",
    "\n",
    "for fname in library_id.Library:\n",
    "    all_files.append(fname)\n",
    "    \n",
    "# Check inputs, create output paths\n",
    "step = 'density'\n",
    "ribo_util.check_inputs(inputs, paths_in, step)\n",
    "ribo_util.createpath(inputs, paths_out)\n"
   ]
  },
  {
   "cell_type": "markdown",
   "metadata": {},
   "source": [
    "# Analysis Settings\n",
    "\n",
    "Set settings values for the various analyses"
   ]
  },
  {
   "cell_type": "code",
   "execution_count": null,
   "metadata": {
    "collapsed": true
   },
   "outputs": [],
   "source": [
    "# General Settings \n",
    "settings = {}\n",
    "settings['minlength'] = 23\n",
    "settings['maxlength'] = 35\n",
    "settings['shift']     = 11\n",
    "settings['gff_extra'] = 50\n",
    "settings['threshold'] = 1     # in reads per codon\n",
    "settings['alignment'] = '3'   # '3' or '5'\n",
    "# Avggenes Settings\n",
    "settings['length_out_ORF'] = 50\n",
    "settings['length_in_ORF']  = 100        # genes shorter than this are excluded\n",
    "settings['density_type']   = 'reads'    # 'reads' or 'rpm' \n",
    "settings['equal_weight']   = 'yes'      # 'yes' or 'no', if yes, change density_type to reads -- faster\n",
    "settings['next_gene']      = 25         # genes closer than this are removed from start and stop \n",
    "settings['threshold']      = 50       # RPKM, genes below will be removed from average\n",
    "\n",
    "# For asymmetry plot\n",
    "settings['subgroup'] = '/Volumes/HDD/Ribo_seq/annotations/Coli/SRP_IP.csv'    #provide list of genes or 'none'\n",
    "\n",
    "# Pausescore settings\n",
    "settings['A_site shift']    = -11\n",
    "settings['plot_upstream']   = 40\n",
    "settings['plot_downstream'] = 50\n",
    "settings['start_trim']      = 50\n",
    "settings['stop_trim']       = 20\n",
    "settings['frameshift']      = 0\n",
    "\n",
    "# Genelist settings\n",
    "\n",
    "\n",
    "# Pausescore waves settings\n",
    "settings['plot_upstream_wave']   = 0\n",
    "settings['plot_downstream_wave'] = 106\n",
    "settings['next_codon']           = 'yes'\n",
    "\n",
    "# Motif analysis\n",
    "settings['motif_length'] = 9\n"
   ]
  },
  {
   "cell_type": "code",
   "execution_count": null,
   "metadata": {
    "collapsed": false
   },
   "outputs": [],
   "source": [
    "lib_count = len(all_files)\n",
    "lib_index = 0 \n",
    "lib_runs  = 8  # limits number of samples processed, scale with RAM imitations\n",
    "\n",
    "for loops in range(0, lib_count / lib_runs + 2):\n",
    "\n",
    "    if lib_index < lib_count:\n",
    "        print \"Started  at \" + str(datetime.now())\n",
    "        if lib_count - lib_index >= lib_runs:\n",
    "            inputs['files'] = [all_files[i] for i in range(lib_index, lib_index + lib_runs)]\n",
    "\n",
    "            print inputs['files']\n",
    "            \n",
    "            if not 'gff_dict' in globals(): \n",
    "                gff_dict, plus_dict, minus_dict = ribo_util.loadlargePickles(inputs, settings, paths_in, paths_out)\n",
    "            else: \n",
    "                gff_dict, plus_dict, minus_dict = ribo_util.loadlargePickles(inputs, settings, paths_in, paths_out)\n",
    "            \n",
    "            average_gene = ribo_analysis.avggenes(inputs, paths_out, settings, gff_dict, plus_dict, minus_dict)\n",
    "            pausescore_analysis = ribo_analysis.pausescore(inputs, paths_out, settings, gff_dict, plus_dict, minus_dict)\n",
    "            genelists = ribo_analysis.genelist(inputs, paths_out, settings, gff_dict, plus_dict, minus_dict)\n",
    "            asymmetry_analysis = ribo_analysis.asymmetry(inputs, paths_out, settings, gff_dict, plus_dict, minus_dict)\n",
    "            frame_analysis     = ribo_analysis.frame(inputs, paths_out, settings, gff_dict, plus_dict, minus_dict)\n",
    "            wave_analysis = ribo_analysis.pausescore_waves(inputs, paths_out, settings, gff_dict, plus_dict, minus_dict)\n",
    "            motif_analysis = ribo_analysis.motif_pausescore(inputs, paths_out, settings, gff_dict, plus_dict, minus_dict)\n",
    "            \n",
    "        else:\n",
    "            inputs['files'] = [all_files[i] for i in range(lib_index, lib_count)]\n",
    "            \n",
    "            print inputs['files']    \n",
    "            if not 'gff_dict' in globals(): \n",
    "                gff_dict, plus_dict, minus_dict = ribo_util.loadlargePickles(inputs, paths_in, paths_out)\n",
    "            else: \n",
    "                gff_dict, plus_dict, minus_dict = ribo_util.loadlargePickles(inputs, paths_in, paths_out)\n",
    "                \n",
    "            average_gene = ribo_analysis.avggenes(inputs, paths_out, settings, gff_dict, plus_dict, minus_dict)\n",
    "            pausescore_analysis = ribo_analysis.pausescore(inputs, paths_out, settings, gff_dict, plus_dict, minus_dict)\n",
    "            genelists = ribo_analysis.genelist(inputs, paths_out, settings, gff_dict, plus_dict, minus_dict)\n",
    "            asymmetry_analysis = ribo_analysis.asymmetry(inputs, paths_out, settings, gff_dict, plus_dict, minus_dict)\n",
    "            frame_analysis     = ribo_analysis.frame(inputs, paths_out, settings, gff_dict, plus_dict, minus_dict)\n",
    "            wave_analysis = ribo_analysis.pausescore_waves(inputs, paths_out, settings, gff_dict, plus_dict, minus_dict)\n",
    "            motif_analysis = ribo_analysis.motif_pausescore(inputs, paths_out, settings, gff_dict, plus_dict, minus_dict)\n",
    "\n",
    "    else:\n",
    "        continue\n",
    "    lib_index += lib_runs  \n",
    "print \"Finished  at \" + str(datetime.now())"
   ]
  },
  {
   "cell_type": "code",
   "execution_count": null,
   "metadata": {
    "collapsed": true
   },
   "outputs": [],
   "source": [
    "#for fname in all_files:\n",
    "    #inputs['files'] = [fname]\n",
    "    #gff_dict, plus_dict, minus_dict = ribo_util.loadlargePickles(inputs, paths_in, paths_out)\n",
    "\n",
    "    #motif_analysis = ribo_analysis.motif_pausescore(inputs, paths_out, settings, gff_dict, plus_dict, minus_dict)"
   ]
  },
  {
   "cell_type": "markdown",
   "metadata": {},
   "source": [
    "# --------------------------------------------------------------------------\n"
   ]
  },
  {
   "cell_type": "markdown",
   "metadata": {},
   "source": [
    "# Gene Average Analysis:\n",
    "\n",
    "Calculate average ribosome occupancy aligned at start or stop codons, as well the symmetry of ribosome distribution on genes and the periodicity associated with the density"
   ]
  },
  {
   "cell_type": "markdown",
   "metadata": {},
   "source": [
    "Settings for asymmetry analysis:"
   ]
  },
  {
   "cell_type": "code",
   "execution_count": null,
   "metadata": {
    "collapsed": false,
    "scrolled": false
   },
   "outputs": [],
   "source": [
    "inputs['files'] = all_files\n",
    "\n",
    "settings_plot = {}\n",
    "settings_plot['HM_max'] = 2\n",
    "settings_plot['shift']  = 15\n",
    "settings_plot['ymax']   = 5\n",
    "\n",
    "average_plot = ribo_plot.plot_avggene(inputs, paths_in, paths_out, settings, settings_plot)"
   ]
  },
  {
   "cell_type": "code",
   "execution_count": null,
   "metadata": {
    "collapsed": false
   },
   "outputs": [],
   "source": []
  },
  {
   "cell_type": "markdown",
   "metadata": {},
   "source": [
    "# Frame Analysis\n",
    "\n",
    "Calculate reading frame of all footprints, as well as for each readlength and each gene:\n",
    "\n",
    "   - RPKM threshold used above still applies. To change, redefine below "
   ]
  },
  {
   "cell_type": "code",
   "execution_count": null,
   "metadata": {
    "collapsed": false
   },
   "outputs": [],
   "source": []
  },
  {
   "cell_type": "code",
   "execution_count": null,
   "metadata": {
    "collapsed": false,
    "scrolled": true
   },
   "outputs": [],
   "source": [
    "frame_plot = ribo_plot.plot_frame(inputs, paths_in, paths_out, settings, settings_plot)"
   ]
  },
  {
   "cell_type": "markdown",
   "metadata": {},
   "source": [
    "# Pause Score Analysis\n",
    "\n",
    "Calculate pause scores for each amino acid, and for each codon. \n",
    "\n",
    "   - relative density = (reads at position / average reads of the gene)\n",
    "   - pause score = avg(relative density over codon or aa) / instances of the codon oraa"
   ]
  },
  {
   "cell_type": "code",
   "execution_count": null,
   "metadata": {
    "collapsed": false,
    "scrolled": false
   },
   "outputs": [],
   "source": [
    "settings_plot['aa_or_codon'] = 'aa' \n",
    "settings_plot['amino_acid']  = ['P', 'T', 'S', 'I', 'G']\n",
    "settings_plot['codon']       = ['ATT', 'ATC', 'CCT', 'CCA', 'CCG', 'ACT']\n",
    "\n",
    "settings_plot['ymax_dot']  = 8\n",
    "settings_plot['ymax_line'] = 5\n",
    "settings_plot['vmax_HM']   = 2\n",
    "\n",
    "plot_pausescore = ribo_plot.plot_pausescore(inputs, paths_in, paths_out, settings, settings_plot)"
   ]
  },
  {
   "cell_type": "markdown",
   "metadata": {},
   "source": [
    "# Gene Density\n",
    "\n",
    "Display density of listed genes\n",
    "\n",
    "   - RPKM threshold used above still applies. To change, redefine below "
   ]
  },
  {
   "cell_type": "markdown",
   "metadata": {
    "collapsed": false
   },
   "source": [
    "# Compare Pausescores\n",
    "\n",
    "Analyze pausescores using heatmaps:"
   ]
  },
  {
   "cell_type": "code",
   "execution_count": null,
   "metadata": {
    "collapsed": true
   },
   "outputs": [],
   "source": [
    "paths_in['files']          = path_pc  + 'Methods_paper/all_libraries.csv'\n",
    "settings_plot['center_HM'] = 1\n",
    "settings_plot['vmax_HM']   = 3.5"
   ]
  },
  {
   "cell_type": "code",
   "execution_count": null,
   "metadata": {
    "collapsed": false,
    "scrolled": false
   },
   "outputs": [],
   "source": [
    "Pause_heatmap = ribo_plot.plot_pausescore_APE_heatmap(inputs, paths_in, paths_out, settings, settings_plot)"
   ]
  },
  {
   "cell_type": "markdown",
   "metadata": {},
   "source": [
    "# Serine Wave Plots\n",
    "\n",
    "Plot ribosome occupancy downstream of serine pauses"
   ]
  },
  {
   "cell_type": "code",
   "execution_count": null,
   "metadata": {
    "collapsed": false,
    "scrolled": false
   },
   "outputs": [],
   "source": [
    "paths_in['files']          = path_pc  + 'Methods_paper/all_libraries.csv'\n",
    "settings_plot['amino_acid']  = ['S', 'G', 'I']\n",
    "settings_plot['center_HM']   = 1\n",
    "settings_plot['vmax_HM']     = 1.5\n",
    "\n",
    "\n",
    "Pause_wave = ribo_plot.plot_pausescore_downstream(inputs, paths_in, paths_out, settings, settings_plot)"
   ]
  },
  {
   "cell_type": "markdown",
   "metadata": {
    "collapsed": false
   },
   "source": [
    "# Asymmetry Plot"
   ]
  },
  {
   "cell_type": "code",
   "execution_count": null,
   "metadata": {
    "collapsed": false
   },
   "outputs": [],
   "source": [
    "inputs['files'] = all_files\n",
    "asymmetry = ribo_plot.plot_asymmetry_comp(inputs, paths_in, paths_out, settings)"
   ]
  },
  {
   "cell_type": "code",
   "execution_count": null,
   "metadata": {
    "collapsed": true
   },
   "outputs": [],
   "source": []
  },
  {
   "cell_type": "code",
   "execution_count": null,
   "metadata": {
    "collapsed": true
   },
   "outputs": [],
   "source": []
  },
  {
   "cell_type": "code",
   "execution_count": null,
   "metadata": {
    "collapsed": true
   },
   "outputs": [],
   "source": []
  }
 ],
 "metadata": {
  "kernelspec": {
   "display_name": "Python 2",
   "language": "python",
   "name": "python2"
  },
  "language_info": {
   "codemirror_mode": {
    "name": "ipython",
    "version": 2
   },
   "file_extension": ".py",
   "mimetype": "text/x-python",
   "name": "python",
   "nbconvert_exporter": "python",
   "pygments_lexer": "ipython2",
   "version": "2.7.13"
  }
 },
 "nbformat": 4,
 "nbformat_minor": 2
}
