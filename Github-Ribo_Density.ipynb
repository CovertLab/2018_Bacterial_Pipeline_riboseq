{
 "cells": [
  {
   "cell_type": "markdown",
   "metadata": {},
   "source": [
    "# General Public License Disclaimer\n",
    "\n",
    "    Script to run ribosome analysis\n",
    "    Copyright (C) 2019  Fuad Mohammad, fuadm424@gmail.com\n",
    "\n",
    "\n",
    "    This program is free software: you can redistribute it and/or modify\n",
    "    it under the terms of the GNU General Public License as published by\n",
    "    the Free Software Foundation, either version 3 of the License, or\n",
    "    (at your option) any later version.\n",
    "\n",
    "    This program is distributed in the hope that it will be useful,\n",
    "    but WITHOUT ANY WARRANTY; without even the implied warranty of\n",
    "    MERCHANTABILITY or FITNESS FOR A PARTICULAR PURPOSE.  See the\n",
    "    GNU General Public License for more details.\n",
    "\n",
    "    You should have received a copy of the GNU General Public License\n",
    "    along with this program.  If not, see <http://www.gnu.org/licenses/>."
   ]
  },
  {
   "cell_type": "markdown",
   "metadata": {},
   "source": [
    "# FASTQ processing script\n",
    "\n",
    "This notebook will take FASTQ files from Ribo-seq or RNA-seq and convert them to density files aligned to a genome using the 3' end of reads. \n",
    "\n",
    "- Filtering is done using skewer v0.2.2 to remove low quality reads and reads outside of size threshold.\n",
    "- Bowtie v0.12.7 is used to remove any contaminating ladder, tRNA, and rRNA reads ny making indices for all tRNAs, rRNA, and ladder sequences separately. Aligns reads with an allowed mismatch of 2.\n",
    "- Density is made using 3' alignment. It is stored as a pickled dictionary and is size separated. It is also saved as a .wig file and a .bin file for convenience. \n",
    "- Script will output library statistics including filtering and bowtie read allocation, as well as some custom QC information. \n",
    "\n",
    "Input and paths are placed in dictionaries. Libraries are numbered as initials + library number (FM1, FM2...)"
   ]
  },
  {
   "cell_type": "markdown",
   "metadata": {},
   "source": [
    "# Settings\n"
   ]
  },
  {
   "cell_type": "code",
   "execution_count": 1,
   "metadata": {
    "collapsed": false,
    "scrolled": false
   },
   "outputs": [
    {
     "name": "stdout",
     "output_type": "stream",
     "text": [
      "['CW63']\n"
     ]
    }
   ],
   "source": [
    "%load_ext autoreload\n",
    "%autoreload 2\n",
    "import ribo_util\n",
    "import ribo_main\n",
    "import ribo_analysis\n",
    "import ribo_plot\n",
    "import pandas as pd\n",
    "\n",
    "\n",
    "\n",
    "'''Files and Input Settings'''\n",
    "\n",
    "path_pc     = '/Volumes/HDD/Mohammad_2018/'  # location of folder for ribosome profiling\n",
    "                                             # should have subfolder '/libraries/FASTQ/' containing FASTQ file\n",
    "                                             # should have subfolder '/annotations/Coli/' containing GFF\n",
    "        \n",
    "path_script = '/Users/fuad/Dropbox/scripts/' # Location of the pipeline scripts\n",
    "\n",
    "# File names can be manually added to list, or read as .csv with header == Library\n",
    "# Library names must be the same as the fastq file name\n",
    "\n",
    "all_files  = []                              # sample name, same as FASTQ filename\n",
    "file_csv   = path_pc  + 'Library_names.csv'  # alternatively, provide .csv with filenames\n",
    "\n",
    "library_id = pd.read_csv(file_csv)\n",
    "\n",
    "for fname in library_id.Library:\n",
    "    all_files.append(fname)\n",
    "    \n",
    "# inputs dict will have all input info used in FASTQ processing\n",
    "\n",
    "inputs = {\n",
    "    \n",
    "    'files' : all_files,                     # Files to analyze\n",
    "    'data_type'  : 'ribo_seq',               # Type of library: ribo_seq or RNA_seq\n",
    "    \n",
    "    # select which functions to run: 'yes' and 'no' \n",
    "    'run_filtering'         : 'yes',\n",
    "    'run_filter_UMI'        : 'no' ,         # set to yes only if using UMI (Unique Molecular Identifiers)\n",
    "    'run_bowtie'            : 'yes',\n",
    "    'run_density'           : 'yes',\n",
    "    'run_readQC'            : 'yes',\n",
    "    \n",
    "    # cuttoff for read length and quality\n",
    "    'minlength'    : 15,\n",
    "    'maxlength'    : 45,\n",
    "    'phred_cutoff' : 10,\n",
    "    \n",
    "    # linker sequence to be removed during filtering                        \n",
    "    'linker'       :   'CTGTAGGCACCATCAATAGATCGGAAGAGCACACGTCTGAACTCCAGTCA',\n",
    "                      \n",
    "    # UMI lengths, ignore if UMIs are not used\n",
    "    'linker_UMI'   : 0, \n",
    "    'RT_UMI'       : 0,\n",
    "    \n",
    "    # CPU information for multithreading applications, \n",
    "    'multiprocess' : 'yes',\n",
    "    'threads'      : 8,\n",
    "    'cores'        : 4,     \n",
    "    }\n"
   ]
  },
  {
   "cell_type": "code",
   "execution_count": 2,
   "metadata": {
    "collapsed": false
   },
   "outputs": [],
   "source": [
    "'''Input directories'''\n",
    "\n",
    "# Can be customized to your liking \n",
    "\n",
    "\n",
    "# paths_in must be created prior to running, and filled with the relevant files:\n",
    "paths_in = {\n",
    "    'path_fastq'      : path_pc + 'libraries/FASTQ/',                             # location of FASTQ files    \n",
    "    'path_bowtie'    : path_script + 'ribo_seq/bowtie/bowtie',                    # location of bowtie\n",
    "    'btindex_ladder' : path_script + 'ribo_seq/bowtie/indexes/ladder/ladder',     # bowtie index for ladders used in profiling\n",
    "    'btindex_trna'   : path_script + 'ribo_seq/bowtie/indexes/Coli/Coli_tRNA',    # bowtie index for tRNA\n",
    "    'btindex_rrna'   : path_script + 'ribo_seq/bowtie/indexes/Coli/Coli_rRNA',    # bowtie index for rRNA\n",
    "    'btindex_chr'    : path_script + 'ribo_seq/bowtie/indexes/Coli/Coli_genome',  # bowtie index for genome\n",
    "    }\n",
    "\n",
    "# Output directories\n",
    "paths_out = {\n",
    "    'path_filter'       : path_pc  + 'libraries/density/filtering_bowtie/filterdata/',\n",
    "    'path_ladder'       : path_pc  + 'libraries/density/filtering_bowtie/alignments/ladder/',\n",
    "    'path_trna'         : path_pc  + 'libraries/density/filtering_bowtie/alignments/tRNA/',\n",
    "    'path_rrna'         : path_pc  + 'libraries/density/filtering_bowtie/alignments/rRNA/',\n",
    "    'path_chr'          : path_pc  + 'libraries/density/filtering_bowtie/alignments/chr/',\n",
    "    'path_temp'         : path_pc  + 'libraries/density/filtering_bowtie/tmpds/',\n",
    "    'path_density'      : path_pc  + 'libraries/density/density/',\n",
    "    'path_log'          : path_pc  + 'libraries/density/logs/',\n",
    "    'path_analysis_log' : path_pc  + 'libraries/analysis/logs/',\n",
    "    'path_analysis'     : path_pc  + 'libraries/analysis/individual/',\n",
    "    'path_figures'      : path_pc  + 'libraries/figures/',\n",
    "    }\n",
    "\n",
    "# Check inputs, create output paths, and make gff dictionary if needed\n",
    "step = 'density'                                 # density or analysis\n",
    "ribo_util.check_inputs(inputs, paths_in, step)   # will remove file from analysis for not having a FASTQ file\n",
    "ribo_util.createpath(inputs, paths_out)          # create output paths\n"
   ]
  },
  {
   "cell_type": "code",
   "execution_count": 3,
   "metadata": {
    "collapsed": false,
    "scrolled": false
   },
   "outputs": [
    {
     "name": "stdout",
     "output_type": "stream",
     "text": [
      "-----FILTER-----\n",
      "\n",
      "Files to filter: CW63\n",
      "Filter parameters are: \n",
      "min length = 15 \n",
      "max length = 45 \n",
      "phred cutoff = 10 \n",
      "\n",
      "\tStarted filtering at 2019-05-29 05:44:48.536525\n",
      "\tFinished filtering at 2019-05-29 05:45:32.867782\n",
      "\tCOMPLETED FILTERING\n",
      "\n",
      "\tStarted UMI removal at 2019-05-29 05:45:32.868485\n",
      "CW63will not be filtered for a UMI\n",
      "\tFinished UMI removal at 2019-05-29 05:45:32.868618\n",
      "\tCOMPLETED UMI REMOVAL\n",
      "\n",
      "------ALIGN------\n",
      "\n",
      "Files to align: CW63\n",
      "\n",
      "\tStarted Bowtie alignment at 2019-05-29 05:45:32.869351\n",
      "\tFinished ladder removal at 2019-05-29 05:49:39.155360\n",
      "\tFinished tRNA removal at 2019-05-29 05:56:31.425884\n",
      "\tFinished rRNA removal at 2019-05-29 06:03:40.100346\n",
      "\tFinished chromosome alignment at 2019-05-29 06:07:13.849068\n",
      "\tCOMPLETED ALIGNING\n",
      "\n",
      "-----DENSITY-----\n",
      "\n",
      "Files to condense: CW63\n",
      "\n",
      "\tStarted density at 2019-05-29 06:07:13.850185\n",
      "\tFinished density at 2019-05-29 06:09:58.285403\n",
      "\tCOMPLETED DENSITY\n",
      "\n",
      "\tStarted readQC at 2019-05-29 06:09:58.304155\n",
      "\tFinished readQC at 2019-05-29 06:13:36.597788\n"
     ]
    }
   ],
   "source": [
    "filterreads  = ribo_main.run_filter(inputs, paths_in, paths_out)\n",
    "remove_UMI   = ribo_main.run_filter_UMI(inputs, paths_in, paths_out)\n",
    "bowtiereads  = ribo_main.run_align(inputs, paths_in, paths_out)\n",
    "densityreads = ribo_main.run_density(inputs, paths_in, paths_out)\n",
    "analyzereads = ribo_analysis.readQC(inputs, paths_in, paths_out)"
   ]
  },
  {
   "cell_type": "markdown",
   "metadata": {},
   "source": [
    "# Read analysis "
   ]
  },
  {
   "cell_type": "markdown",
   "metadata": {},
   "source": [
    "Read allocation after filtering and bowtie alignment:"
   ]
  },
  {
   "cell_type": "code",
   "execution_count": 4,
   "metadata": {
    "collapsed": false
   },
   "outputs": [
    {
     "data": {
      "text/html": [
       "<div>\n",
       "<style scoped>\n",
       "    .dataframe tbody tr th:only-of-type {\n",
       "        vertical-align: middle;\n",
       "    }\n",
       "\n",
       "    .dataframe tbody tr th {\n",
       "        vertical-align: top;\n",
       "    }\n",
       "\n",
       "    .dataframe thead th {\n",
       "        text-align: right;\n",
       "    }\n",
       "</style>\n",
       "<table border=\"1\" class=\"dataframe\">\n",
       "  <thead>\n",
       "    <tr style=\"text-align: right;\">\n",
       "      <th></th>\n",
       "      <th>CW63</th>\n",
       "    </tr>\n",
       "  </thead>\n",
       "  <tbody>\n",
       "    <tr>\n",
       "      <th>total_reads</th>\n",
       "      <td>36601050</td>\n",
       "    </tr>\n",
       "    <tr>\n",
       "      <th>filtered_reads</th>\n",
       "      <td>31373629</td>\n",
       "    </tr>\n",
       "    <tr>\n",
       "      <th>ladder</th>\n",
       "      <td>114019</td>\n",
       "    </tr>\n",
       "    <tr>\n",
       "      <th>tRNA</th>\n",
       "      <td>8184259</td>\n",
       "    </tr>\n",
       "    <tr>\n",
       "      <th>rRNA</th>\n",
       "      <td>1901308</td>\n",
       "    </tr>\n",
       "    <tr>\n",
       "      <th>chromosome</th>\n",
       "      <td>20143914</td>\n",
       "    </tr>\n",
       "    <tr>\n",
       "      <th>% Total mapped</th>\n",
       "      <td>55</td>\n",
       "    </tr>\n",
       "    <tr>\n",
       "      <th>unaligned</th>\n",
       "      <td>1030129</td>\n",
       "    </tr>\n",
       "  </tbody>\n",
       "</table>\n",
       "</div>"
      ],
      "text/plain": [
       "                    CW63\n",
       "total_reads     36601050\n",
       "filtered_reads  31373629\n",
       "ladder            114019\n",
       "tRNA             8184259\n",
       "rRNA             1901308\n",
       "chromosome      20143914\n",
       "% Total mapped        55\n",
       "unaligned        1030129"
      ]
     },
     "metadata": {},
     "output_type": "display_data"
    },
    {
     "data": {
      "image/png": "[encoded data removed]",
      "text/plain": [
       "<matplotlib.figure.Figure at 0x10b70fdd0>"
      ]
     },
     "metadata": {},
     "output_type": "display_data"
    }
   ],
   "source": [
    "log_data = ribo_util.get_filter_bowtie_log(inputs, paths_in, paths_out)\n",
    "ribo_plot.plot_alignment_allocation(inputs, paths_in, paths_out)"
   ]
  },
  {
   "cell_type": "markdown",
   "metadata": {},
   "source": [
    "Read size distribution:"
   ]
  },
  {
   "cell_type": "code",
   "execution_count": 5,
   "metadata": {
    "collapsed": false
   },
   "outputs": [
    {
     "data": {
      "image/png": "[encoded data removed]",
      "text/plain": [
       "<matplotlib.figure.Figure at 0x10b5ea410>"
      ]
     },
     "metadata": {},
     "output_type": "display_data"
    }
   ],
   "source": [
    "read_size_distribution = ribo_plot.size_dist(inputs, paths_in, paths_out)"
   ]
  },
  {
   "cell_type": "markdown",
   "metadata": {},
   "source": [
    "Average nucleotide composition of reads:"
   ]
  },
  {
   "cell_type": "code",
   "execution_count": 6,
   "metadata": {
    "collapsed": false,
    "scrolled": false
   },
   "outputs": [
    {
     "data": {
      "text/plain": [
       "<matplotlib.figure.Figure at 0x11a1f8f90>"
      ]
     },
     "metadata": {},
     "output_type": "display_data"
    },
    {
     "data": {
      "image/png": "[encoded data removed]",
      "text/plain": [
       "<matplotlib.figure.Figure at 0x11a2415d0>"
      ]
     },
     "metadata": {},
     "output_type": "display_data"
    }
   ],
   "source": [
    "read_composition = ribo_plot.read_comp(inputs, paths_in, paths_out)    "
   ]
  },
  {
   "cell_type": "code",
   "execution_count": null,
   "metadata": {
    "collapsed": true
   },
   "outputs": [],
   "source": []
  },
  {
   "cell_type": "code",
   "execution_count": null,
   "metadata": {
    "collapsed": true
   },
   "outputs": [],
   "source": []
  },
  {
   "cell_type": "code",
   "execution_count": null,
   "metadata": {
    "collapsed": true
   },
   "outputs": [],
   "source": []
  },
  {
   "cell_type": "code",
   "execution_count": null,
   "metadata": {
    "collapsed": true
   },
   "outputs": [],
   "source": []
  },
  {
   "cell_type": "code",
   "execution_count": null,
   "metadata": {
    "collapsed": true
   },
   "outputs": [],
   "source": []
  }
 ],
 "metadata": {
  "kernelspec": {
   "display_name": "Python 2",
   "language": "python",
   "name": "python2"
  },
  "language_info": {
   "codemirror_mode": {
    "name": "ipython",
    "version": 2
   },
   "file_extension": ".py",
   "mimetype": "text/x-python",
   "name": "python",
   "nbconvert_exporter": "python",
   "pygments_lexer": "ipython2",
   "version": "2.7.13"
  }
 },
 "nbformat": 4,
 "nbformat_minor": 2
}
